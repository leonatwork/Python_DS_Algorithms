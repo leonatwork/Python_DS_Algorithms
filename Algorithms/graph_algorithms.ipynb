{
  "nbformat": 4,
  "nbformat_minor": 0,
  "metadata": {
    "colab": {
      "name": "graph-algorithms.ipynb",
      "provenance": [],
      "collapsed_sections": []
    },
    "kernelspec": {
      "name": "python3",
      "display_name": "Python 3"
    }
  },
  "cells": [
    {
      "cell_type": "markdown",
      "metadata": {
        "id": "38Dc4DBN1_Hq"
      },
      "source": [
        "# **Graph Algorithms**\n",
        "\n",
        "Considering an undirected graph\n",
        "```\n",
        "     0   6\n",
        "    / \\ /\n",
        "   1   3\n",
        "  /   / \\ \n",
        " 2   4   5\n",
        "```\n",
        "### Breadth First Search (BFS)"
      ]
    },
    {
      "cell_type": "code",
      "metadata": {
        "id": "RRvuB4w-4CSD",
        "outputId": "6eafb5c0-3c52-47fe-d13d-f4be53030734",
        "colab": {
          "base_uri": "https://localhost:8080/",
          "height": 51
        }
      },
      "source": [
        "from collections import defaultdict \n",
        "  \n",
        "class Graph: \n",
        "  \n",
        "    def __init__(self): \n",
        "        self.graph = defaultdict(list) \n",
        "  \n",
        "    def addEdge(self, u, v): \n",
        "        self.graph[u].append(v) \n",
        "        self.graph[v].append(u) \n",
        "  \n",
        "    def bfs(self, src): \n",
        "        visited = [False] * (len(self.graph)) \n",
        "        queue = [] \n",
        "        queue.append(src) \n",
        "        visited[src] = True\n",
        "        while queue: \n",
        "            u = queue.pop(0) \n",
        "            print (u, end = \" \") \n",
        "            for i in self.graph[u]: \n",
        "                if visited[i] == False: \n",
        "                    queue.append(i) \n",
        "                    visited[i] = True\n",
        "\n",
        "g = Graph() \n",
        "\n",
        "g.addEdge(0, 1)\n",
        "g.addEdge(1, 2)\n",
        "g.addEdge(0, 3)\n",
        "g.addEdge(3, 4)\n",
        "g.addEdge(3, 5)\n",
        "g.addEdge(3, 6)\n",
        "\n",
        "print(\"BFS trace from vertex 0\") \n",
        "g.bfs(0) \n",
        "  "
      ],
      "execution_count": 1,
      "outputs": [
        {
          "output_type": "stream",
          "text": [
            "BFS trace from vertex 0\n",
            "0 1 3 2 4 5 6 "
          ],
          "name": "stdout"
        }
      ]
    },
    {
      "cell_type": "markdown",
      "metadata": {
        "id": "E4hSszmS5k0L"
      },
      "source": [
        "### Depth First Search (DFS)\n",
        "\n"
      ]
    },
    {
      "cell_type": "code",
      "metadata": {
        "id": "8mpi9pWH5nwE",
        "outputId": "e5c71860-69c3-4d1e-ef25-4e14d3ec9f84",
        "colab": {
          "base_uri": "https://localhost:8080/",
          "height": 51
        }
      },
      "source": [
        "from collections import defaultdict \n",
        "  \n",
        "class Graph: \n",
        "  \n",
        "    def __init__(self): \n",
        "        self.graph = defaultdict(list) \n",
        "  \n",
        "    def addEdge(self, u, v): \n",
        "        self.graph[u].append(v) \n",
        "        self.graph[v].append(u) \n",
        "  \n",
        "    def dfsUtil(self, v, visited): \n",
        "        visited[v] = True\n",
        "        print(v, end = ' ') \n",
        "        for i in self.graph[v]: \n",
        "            if visited[i] == False: \n",
        "                self.dfsUtil(i, visited) \n",
        "  \n",
        "    def dfs(self, v):\n",
        "        visited = [False] * (len(self.graph)) \n",
        "        self.dfsUtil(v, visited) \n",
        "\n",
        "g = Graph() \n",
        "\n",
        "g.addEdge(0, 1)\n",
        "g.addEdge(1, 2)\n",
        "g.addEdge(0, 3)\n",
        "g.addEdge(3, 4)\n",
        "g.addEdge(3, 5)\n",
        "g.addEdge(3, 6)\n",
        "\n",
        "print(\"DFS trace from vertex 0\") \n",
        "g.dfs(0) \n",
        "  "
      ],
      "execution_count": 3,
      "outputs": [
        {
          "output_type": "stream",
          "text": [
            "DFS trace from vertex 0\n",
            "0 1 2 3 4 5 6 "
          ],
          "name": "stdout"
        }
      ]
    }
  ]
}