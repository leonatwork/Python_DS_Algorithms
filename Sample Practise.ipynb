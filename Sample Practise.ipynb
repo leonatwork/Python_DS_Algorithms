{
 "cells": [
  {
   "cell_type": "code",
   "execution_count": 3,
   "metadata": {},
   "outputs": [
    {
     "name": "stdout",
     "output_type": "stream",
     "text": [
      "2\n"
     ]
    }
   ],
   "source": [
    "print('2')"
   ]
  },
  {
   "cell_type": "code",
   "execution_count": 7,
   "metadata": {},
   "outputs": [
    {
     "name": "stdout",
     "output_type": "stream",
     "text": [
      "2\n"
     ]
    }
   ],
   "source": [
    "x=1\n",
    "x=x+1\n",
    "print(x)"
   ]
  },
  {
   "cell_type": "code",
   "execution_count": 7,
   "metadata": {},
   "outputs": [
    {
     "name": "stdout",
     "output_type": "stream",
     "text": [
      "HNY Harry SO COOL 9\n",
      "HNY Sally SO COOL 9\n",
      "HNY Glen SO COOL 9\n"
     ]
    }
   ],
   "source": [
    "x=9\n",
    "friends=['Harry','Sally','Glen']\n",
    "for f in friends:\n",
    "    print('HNY',f,'SO COOL',x)"
   ]
  },
  {
   "cell_type": "code",
   "execution_count": 13,
   "metadata": {},
   "outputs": [
    {
     "name": "stdout",
     "output_type": "stream",
     "text": [
      "0 b\n",
      "1 a\n",
      "2 n\n",
      "3 a\n",
      "4 n\n",
      "5 a\n",
      "3\n"
     ]
    },
    {
     "data": {
      "text/plain": [
       "False"
      ]
     },
     "execution_count": 13,
     "metadata": {},
     "output_type": "execute_result"
    }
   ],
   "source": [
    "fruit='banana'\n",
    "index=0\n",
    "while index<len(fruit):\n",
    "    letter=fruit[index]\n",
    "    print(index,letter)\n",
    "    index=index+1\n",
    "\n",
    "  \n",
    "count=0\n",
    "for i in fruit:\n",
    "    if i=='a':\n",
    "        count=count+1\n",
    "print(count)\n",
    "'N' in fruit"
   ]
  },
  {
   "cell_type": "code",
   "execution_count": 29,
   "metadata": {},
   "outputs": [
    {
     "name": "stdout",
     "output_type": "stream",
     "text": [
      "-1\n",
      "ban\n"
     ]
    }
   ],
   "source": [
    "print(fruit.find('h'))\n",
    "print(fruit[:3])"
   ]
  },
  {
   "cell_type": "code",
   "execution_count": 25,
   "metadata": {},
   "outputs": [
    {
     "name": "stdout",
     "output_type": "stream",
     "text": [
      "15\n",
      "25\n",
      "uct.af.in\n"
     ]
    }
   ],
   "source": [
    "#Slicing and Extracting\n",
    "data='stephengondolov@uct.af.in Sat 4:56 pm'\n",
    "start=data.find('@')\n",
    "print(start)\n",
    "stop=data.find(\" \",start)\n",
    "print(stop)\n",
    "print(data[start+1:stop])"
   ]
  },
  {
   "cell_type": "code",
   "execution_count": 4,
   "metadata": {},
   "outputs": [
    {
     "name": "stdout",
     "output_type": "stream",
     "text": [
      "hey you\n",
      "such a cutie you're\n",
      "you'll finish this off soon and get a job\n",
      "CHILLLLL\n",
      "4\n"
     ]
    }
   ],
   "source": [
    "file=open(\"file.txt\",'r')\n",
    "count=0\n",
    "for fopen in file:\n",
    "    fopen=fopen.rstrip()\n",
    "    count=count+1\n",
    "    print(fopen)\n",
    "print(count)"
   ]
  },
  {
   "cell_type": "code",
   "execution_count": 15,
   "metadata": {},
   "outputs": [
    {
     "ename": "TypeError",
     "evalue": "'str' object does not support item assignment",
     "output_type": "error",
     "traceback": [
      "\u001b[1;31m---------------------------------------------------------------------------\u001b[0m",
      "\u001b[1;31mTypeError\u001b[0m                                 Traceback (most recent call last)",
      "\u001b[1;32m<ipython-input-15-feb46bb13141>\u001b[0m in \u001b[0;36m<module>\u001b[1;34m\u001b[0m\n\u001b[0;32m      1\u001b[0m \u001b[0mfruits\u001b[0m \u001b[1;33m=\u001b[0m \u001b[1;34m'Banana'\u001b[0m\u001b[1;33m\u001b[0m\u001b[1;33m\u001b[0m\u001b[0m\n\u001b[1;32m----> 2\u001b[1;33m \u001b[0mfruits\u001b[0m\u001b[1;33m[\u001b[0m\u001b[1;36m0\u001b[0m\u001b[1;33m]\u001b[0m \u001b[1;33m=\u001b[0m \u001b[1;34m'b'\u001b[0m\u001b[1;33m\u001b[0m\u001b[1;33m\u001b[0m\u001b[0m\n\u001b[0m\u001b[0;32m      3\u001b[0m \u001b[0mprint\u001b[0m\u001b[1;33m(\u001b[0m\u001b[0mfruits\u001b[0m\u001b[1;33m)\u001b[0m\u001b[1;33m\u001b[0m\u001b[1;33m\u001b[0m\u001b[0m\n",
      "\u001b[1;31mTypeError\u001b[0m: 'str' object does not support item assignment"
     ]
    }
   ],
   "source": [
    "fruits = 'Banana'\n",
    "fruits[0] = 'b'\n",
    "print(fruits)"
   ]
  },
  {
   "cell_type": "code",
   "execution_count": 3,
   "metadata": {},
   "outputs": [
    {
     "name": "stdout",
     "output_type": "stream",
     "text": [
      "Enter file name: file.txt\n",
      "['CHILLLLL', 'a', 'and', 'cutie', 'finish', 'get', 'hey', 'job', 'off', 'soon', 'such', 'this', 'you', \"you'll\", \"you're\"]\n"
     ]
    }
   ],
   "source": [
    "fname = input(\"Enter file name: \")\n",
    "fh = open(fname)\n",
    "lst = list()\n",
    "for line in fh:\n",
    "    words=line.split()\n",
    "    for i in words:\n",
    "        if i not in lst:\n",
    "            lst.append(i)\n",
    "    lst.sort()\n",
    "print(lst)\n",
    "\n",
    "        "
   ]
  },
  {
   "cell_type": "code",
   "execution_count": 1,
   "metadata": {},
   "outputs": [
    {
     "name": "stdout",
     "output_type": "stream",
     "text": [
      "Enter file name: file.txt\n",
      "There were 0 lines in the file with From as the first word\n"
     ]
    }
   ],
   "source": [
    "fname = input(\"Enter file name: \")\n",
    "File = open(fname)\n",
    "count = 0\n",
    "for line in File:\n",
    "\tif line.startswith(\"From \"):\n",
    "\t\tx = line.strip().split()\n",
    "\t\tprint(x[1])\n",
    "\t\tcount += 1\n",
    "print(\"There were\", count, \"lines in the file with From as the first word\")\n"
   ]
  },
  {
   "cell_type": "code",
   "execution_count": 2,
   "metadata": {},
   "outputs": [
    {
     "name": "stdout",
     "output_type": "stream",
     "text": [
      "{'brand': 'Ford', 'model': 'Mustang', 'year': 1964}\n"
     ]
    }
   ],
   "source": [
    "thisdict = {\n",
    "  \"brand\": \"Ford\",\n",
    "  \"model\": \"Mustang\",\n",
    "  \"year\": 1964\n",
    "}\n",
    "print(thisdict)"
   ]
  },
  {
   "cell_type": "code",
   "execution_count": 4,
   "metadata": {},
   "outputs": [
    {
     "name": "stdout",
     "output_type": "stream",
     "text": [
      "{'1 Dollar': 12, '5 Dollar': 1, '10 Dollar': 5, '20 Dollar': 10}\n"
     ]
    }
   ],
   "source": [
    "purse=dict()\n",
    "purse[\"1 Dollar\"]=12\n",
    "purse[\"5 Dollar\"]=1\n",
    "purse[\"10 Dollar\"]=5\n",
    "purse[\"20 Dollar\"]=10\n",
    "print(purse)"
   ]
  },
  {
   "cell_type": "code",
   "execution_count": 5,
   "metadata": {},
   "outputs": [
    {
     "name": "stdout",
     "output_type": "stream",
     "text": [
      "['Daisy', 11, 'Roop', '34']\n"
     ]
    }
   ],
   "source": [
    "list=['Daisy',11,'Roop','34']\n",
    "print(list)"
   ]
  },
  {
   "cell_type": "code",
   "execution_count": 13,
   "metadata": {},
   "outputs": [
    {
     "name": "stdout",
     "output_type": "stream",
     "text": [
      "{'P': 2, 'Q': 1, 'R': 2, 'S': 1, 'L': 1}\n",
      "P 2\n",
      "Q 1\n",
      "R 2\n",
      "S 1\n",
      "L 1\n",
      "This is it 2 P\n"
     ]
    }
   ],
   "source": [
    "count=dict()\n",
    "names=['P','Q','R','S','P','L','R']\n",
    "for name in names:\n",
    "    count[name]=count.get(name,0)+1\n",
    "print(count)\n",
    "\n",
    "for i,j in count.items():\n",
    "    print(i,j)\n",
    "    \n",
    "bigcount=None\n",
    "bigword=None\n",
    "for i,j in count.items():\n",
    "    if bigcount is None or j>bigcount:\n",
    "        bigcount=j\n",
    "        bigword=i\n",
    "print(\"This is it\",bigcount,bigword)"
   ]
  },
  {
   "cell_type": "code",
   "execution_count": 14,
   "metadata": {},
   "outputs": [
    {
     "name": "stdout",
     "output_type": "stream",
     "text": [
      "Enter file:file.txt\n",
      "None None\n"
     ]
    }
   ],
   "source": [
    "name = input(\"Enter file:\")\n",
    "if len(name) < 1 : name = \"file.txt\"\n",
    "handle = open(name)\n",
    "\n",
    "count=dict()\n",
    "bigword=None\n",
    "bigcount=None\n",
    "for line in handle:\n",
    "    if line.startswith(\"From:\"):\n",
    "        x=line.split()\n",
    "        count[x[1]]=count.get(x[1],0)+1\n",
    "    for i,j in count.items():\n",
    "        if bigcount is None or j>bigcount:\n",
    "            bigcount=j\n",
    "            bigword=i\n",
    "print(bigword,bigcount)"
   ]
  },
  {
   "cell_type": "code",
   "execution_count": 13,
   "metadata": {},
   "outputs": [
    {
     "name": "stdout",
     "output_type": "stream",
     "text": [
      "[(1, 'a'), (2, 'f'), (2, 'g'), (6, 'r'), (9, 'b')]\n",
      "('a', 1)\n",
      "('f', 2)\n",
      "('g', 2)\n"
     ]
    }
   ],
   "source": [
    "c={'a':1,'b':9,'f':2,'r':6,'g':2}\n",
    "tmp=list()\n",
    "for k,v in c.items():\n",
    "    tmp.append((v,k))\n",
    "tmp=sorted(tmp)\n",
    "print(tmp)\n",
    "for v,k in tmp[:3]:\n",
    "    print((k,v))"
   ]
  },
  {
   "cell_type": "code",
   "execution_count": 12,
   "metadata": {},
   "outputs": [
    {
     "name": "stdout",
     "output_type": "stream",
     "text": [
      "[(1, 'a'), (2, 'f'), (2, 'g'), (6, 'r'), (9, 'b')]\n"
     ]
    }
   ],
   "source": [
    "print(sorted([(v,k) for k,v in c.items()]))"
   ]
  },
  {
   "cell_type": "code",
   "execution_count": 3,
   "metadata": {},
   "outputs": [
    {
     "name": "stdout",
     "output_type": "stream",
     "text": [
      "Enter file:file.txt\n"
     ]
    }
   ],
   "source": [
    "name = input(\"Enter file:\")\n",
    "if len(name) < 1 : name = \"mbox-short.txt\"\n",
    "handle = open(name)\n",
    "\n",
    "count = dict()\n",
    "\n",
    "for line in handle:\n",
    "   if line.startswith(\"From \"):\n",
    "        line = line.split()[5].split(':')[0] \n",
    "        count[line] = count.get(line, 0) + 1\n",
    "\n",
    "for k, v in sorted(count.items()):\n",
    "    print (k,v)"
   ]
  },
  {
   "cell_type": "code",
   "execution_count": 17,
   "metadata": {},
   "outputs": [
    {
     "name": "stdout",
     "output_type": "stream",
     "text": [
      "such a cutie you're\n",
      "\n"
     ]
    }
   ],
   "source": [
    "import re\n",
    "handle=open('file.txt')\n",
    "for line in handle:\n",
    "    if re.search('cutie',line):\n",
    "        print(line)\n"
   ]
  },
  {
   "cell_type": "code",
   "execution_count": 13,
   "metadata": {},
   "outputs": [
    {
     "name": "stdout",
     "output_type": "stream",
     "text": [
      "But who has any right to find fault with a man who chooses to enjoy a pleasure that has no annoying consequences, or one who avoids a pain that produces no resultant pleasure?\n",
      "\n"
     ]
    }
   ],
   "source": [
    "handle=open('file.txt')\n",
    "for line in handle:\n",
    "    if re.search('^But',line):\n",
    "        print(line)"
   ]
  },
  {
   "cell_type": "code",
   "execution_count": 19,
   "metadata": {},
   "outputs": [
    {
     "name": "stdout",
     "output_type": "stream",
     "text": [
      "['11', '22', '23']\n"
     ]
    }
   ],
   "source": [
    "x=\"Hello 11, you're 22 years old now. The date is 23rd October.\"\n",
    "y= re.findall('[0-9]+',x)\n",
    "print(y)"
   ]
  },
  {
   "cell_type": "code",
   "execution_count": 74,
   "metadata": {},
   "outputs": [
    {
     "name": "stdout",
     "output_type": "stream",
     "text": [
      "['11']\n",
      "['23:45:20.']\n",
      "['pb19@gmail.com']\n",
      "['gmail.com']\n"
     ]
    }
   ],
   "source": [
    "x=\"Hello 11, you're 22 years old now. The date is 23rd October pb19@gmail.com 23:45:20.\"\n",
    "y= re.findall('^Hello ([0-9]+)',x)\n",
    "a=re.findall('com (\\S+:\\S+:\\S+)',x)\n",
    "b=re.findall('\\S+@\\S+',x)\n",
    "k= re.findall('@([^ ]*)',x)\n",
    "#[^ ]-> Everything but space\n",
    "print(y)\n",
    "print(a)\n",
    "print(b)\n",
    "print(k)"
   ]
  },
  {
   "cell_type": "code",
   "execution_count": 81,
   "metadata": {},
   "outputs": [
    {
     "name": "stdout",
     "output_type": "stream",
     "text": [
      "['stephen.marquard@uct.ac.za']\n"
     ]
    }
   ],
   "source": [
    "y='From stephen.marquard@uct.ac.za Sat Jan  5 09:14:16 2008'\n",
    "a=re.findall('\\S+?@\\S+' ,y)\n",
    "print(a)\n",
    "\n",
    "\n"
   ]
  },
  {
   "cell_type": "code",
   "execution_count": 125,
   "metadata": {},
   "outputs": [
    {
     "name": "stdout",
     "output_type": "stream",
     "text": [
      "493010\n"
     ]
    }
   ],
   "source": [
    "handle=open('assign.txt')\n",
    "lst=list()\n",
    "for line in handle:\n",
    "    if re.findall('[0-9]+',line):\n",
    "        a=re.findall('[0-9]+',line)\n",
    "        for i in range(0, len(a)): \n",
    "            a[i]= int(a[i]) \n",
    "            lst.append(a[i])\n",
    "print(sum(lst))\n",
    "    "
   ]
  },
  {
   "cell_type": "code",
   "execution_count": 1,
   "metadata": {},
   "outputs": [],
   "source": [
    "import socket\n",
    "mysock=socket.socket(socket.AF_INET,socket.SOCK_STREAM)\n",
    "mysock.connect(('data.pr4e.org',80))"
   ]
  },
  {
   "cell_type": "code",
   "execution_count": 2,
   "metadata": {},
   "outputs": [
    {
     "name": "stdout",
     "output_type": "stream",
     "text": [
      "But soft what light through yonder window breaks\n",
      "It is the east and Juliet is the sun\n",
      "Arise fair sun and kill the envious moon\n",
      "Who is already sick and pale with grief\n"
     ]
    }
   ],
   "source": [
    "import urllib.request,urllib.parse,urllib.error\n",
    "from bs4 import BeautifulSoup\n",
    "fhand=urllib.request.urlopen('http://data.pr4e.org/romeo.txt')\n",
    "for line in fhand:\n",
    "    print(line.decode().strip())"
   ]
  },
  {
   "cell_type": "code",
   "execution_count": 3,
   "metadata": {},
   "outputs": [
    {
     "name": "stdout",
     "output_type": "stream",
     "text": [
      "Enter: https://www.dr-chuck.com/\n",
      "https://www.learnerprivacy.org/\n",
      "https://www.si.umich.edu/\n",
      "https://www.ratemyprofessors.com/ShowRatings.jsp?tid=1159280\n",
      "https://www.learnerprivacy.org\n",
      "https://www.dr-chuck.com/csev-blog/\n",
      "https://www.twitter.com/drchuck/\n",
      "https://www.dr-chuck.com/dr-chuck/resume/speaking.htm\n",
      "https://www.slideshare.net/csev\n",
      "/dr-chuck/resume/index.htm\n",
      "https://amzn.to/1K5Q81K\n",
      "https://www.coursera.org/instructor/drchuck\n",
      "http://afs.dr-chuck.com/papers/\n",
      "https://itunes.apple.com/us/podcast/computing-conversations/id731495760\n",
      "https://www.youtube.com/playlist?list=PLHJB2bhmgB7dFuY7HmrXLj5BmHGKTD-3R\n",
      "https://developers.imsglobal.org/\n",
      "https://www.youtube.com/user/csev\n",
      "https://vimeo.com/drchuck/videos\n",
      "https://backpack.openbadges.org/share/4f76699ddb399d162a00b89a452074b3/\n",
      "https://www.linkedin.com/in/charlesseverance/\n",
      "https://www.researchgate.net/profile/Charles_Severance/\n",
      "https://www.learnerprivacy.org/\n",
      "https://www.py4e.com/\n",
      "https://www.dj4e.com/\n",
      "https://www.wa4e.com/\n",
      "https://www.coursera.org/course/insidetheinternet\n",
      "https://www.sakaiproject.org/\n",
      "https://www.tsugi.org/\n",
      "https://developers.imsglobal.org/\n",
      "http://www.py4e.com/book\n",
      "/sakai-book\n",
      "http://www.amazon.com/gp/product/1624311393/ref=as_li_ss_tl?ie=UTF8&camp=1789&creative=390957&creativeASIN=1624311393&linkCode=as2&tag=drchu02-20\n",
      "http://www.amazon.com/gp/product/059680069X/ref=as_li_ss_tl?ie=UTF8&camp=1789&creative=390957&creativeASIN=059680069X&linkCode=as2&tag=drchu02-20\n",
      "http://www.amazon.com/Performance-Computing-Architectures-Optimization-Benchmarks/dp/156592312X/\n",
      "http://oreilly.com/catalog/9781565923126/\n",
      "http://cnx.org/content/col11136/latest/\n",
      "http://www.youtube.com/playlist?list=PLHJB2bhmgB7dFuY7HmrXLj5BmHGKTD-3R\n",
      "https://www.vimeo.com/17207620\n",
      "https://www.youtube.com/watch?v=BVKpW02hsrU\n",
      "https://www.youtube.com/watch?v=sa2WsgCvn7c\n",
      "https://www.vimeo.com/17213019\n",
      "https://www.youtube.com/watch?v=FJ078sO35M0\n",
      "http://afs.dr-chuck.com/citoolkit\n",
      "https://twitter.com/drchuck\n"
     ]
    }
   ],
   "source": [
    "import urllib.request,urllib.parse,urllib.error\n",
    "from bs4 import BeautifulSoup\n",
    "\n",
    "url=input(\"Enter: \")\n",
    "html=urllib.request.urlopen(url).read()\n",
    "soup=BeautifulSoup(html,'html.parser')\n",
    "tags=soup('a')\n",
    "for tag in tags:\n",
    "    print(tag.get('href',None))"
   ]
  },
  {
   "cell_type": "code",
   "execution_count": 16,
   "metadata": {},
   "outputs": [
    {
     "name": "stdout",
     "output_type": "stream",
     "text": [
      "Enter - http://py4e-data.dr-chuck.net/comments_739066.html\n",
      "2376\n"
     ]
    }
   ],
   "source": [
    "from urllib.request import urlopen\n",
    "from bs4 import BeautifulSoup\n",
    "import ssl\n",
    "\n",
    "# Ignore SSL certificate errors\n",
    "ctx = ssl.create_default_context()\n",
    "ctx.check_hostname = False\n",
    "ctx.verify_mode = ssl.CERT_NONE\n",
    "\n",
    "url = input('Enter - ')\n",
    "html = urlopen(url, context=ctx).read()\n",
    "soup = BeautifulSoup(html, \"html.parser\")\n",
    "\n",
    "# Retrieve all of the anchor tags\n",
    "tags = soup('span')\n",
    "lst=list()\n",
    "for tag in tags:\n",
    "    lst.append(int(tag.contents[0]))\n",
    "print(sum(lst))\n",
    "    "
   ]
  },
  {
   "cell_type": "code",
   "execution_count": 24,
   "metadata": {},
   "outputs": [
    {
     "name": "stdout",
     "output_type": "stream",
     "text": [
      "Enter - http://py4e-data.dr-chuck.net/known_by_Xander.html\n",
      "http://py4e-data.dr-chuck.net/known_by_Sheonagh.html\n"
     ]
    }
   ],
   "source": [
    "# To run this, download the BeautifulSoup zip file\n",
    "# http://www.py4e.com/code3/bs4.zip\n",
    "# and unzip it in the same directory as this file\n",
    "\n",
    "import urllib.request, urllib.parse, urllib.error\n",
    "from bs4 import BeautifulSoup\n",
    "import ssl\n",
    "\n",
    "# Ignore SSL certificate errors\n",
    "ctx = ssl.create_default_context()\n",
    "ctx.check_hostname = False\n",
    "ctx.verify_mode = ssl.CERT_NONE\n",
    "\n",
    "url = input('Enter - ')\n",
    "for i in range(7):\n",
    "    html = urllib.request.urlopen(url, context=ctx).read()\n",
    "    soup = BeautifulSoup(html, 'html.parser')\n",
    "    tags = soup('a')\n",
    "    count = 0\n",
    "    for tag in tags:\n",
    "        count = count +1       \n",
    "        if count>18:\n",
    "            break\n",
    "        url = tag.get('href', None)\n",
    "print(url)\n",
    "\n"
   ]
  },
  {
   "cell_type": "code",
   "execution_count": 14,
   "metadata": {},
   "outputs": [
    {
     "name": "stdout",
     "output_type": "stream",
     "text": [
      "http://py4e-data.dr-chuck.net/known_by_Aedan.html\n"
     ]
    }
   ],
   "source": [
    "\n",
    "from bs4 import BeautifulSoup\n",
    "import urllib.request, urllib.parse, urllib.error\n",
    "import ssl\n",
    "import re\n",
    "\n",
    "ctx = ssl.create_default_context()\n",
    "ctx.check_hostname = False\n",
    "ctx.verify_mode = ssl.CERT_NONE\n",
    "url = \"http://py4e-data.dr-chuck.net/known_by_Romi.html\"\n",
    "\n",
    "#to repeat 7 times#\n",
    "for i in range(7):\n",
    "    html = urllib.request.urlopen(url, context=ctx).read()\n",
    "    soup = BeautifulSoup(html, 'html.parser')\n",
    "    tags = soup('a')\n",
    "    count = 0\n",
    "    for tag in tags:\n",
    "        count = count +1\n",
    "   \n",
    "        #make it stop at position 3#\n",
    "        if count>18:\n",
    "            break\n",
    "        url = tag.get('href', None)\n",
    "\n",
    "print(url)"
   ]
  },
  {
   "cell_type": "code",
   "execution_count": 13,
   "metadata": {},
   "outputs": [
    {
     "name": "stdout",
     "output_type": "stream",
     "text": [
      "Enter url: http://py4e-data.dr-chuck.net/known_by_Romi.html\n",
      "Enter count: 7\n",
      "Enter position: 18\n",
      "Retrieving http://py4e-data.dr-chuck.net/known_by_Romi.html\n",
      "Retrieving http://py4e-data.dr-chuck.net/known_by_Artemis.html\n",
      "Retrieving http://py4e-data.dr-chuck.net/known_by_Ruaidhri.html\n",
      "Retrieving http://py4e-data.dr-chuck.net/known_by_Amna.html\n",
      "Retrieving http://py4e-data.dr-chuck.net/known_by_Cherry.html\n",
      "Retrieving http://py4e-data.dr-chuck.net/known_by_Ciarian.html\n",
      "Retrieving http://py4e-data.dr-chuck.net/known_by_Simone.html\n",
      "Retrieving http://py4e-data.dr-chuck.net/known_by_Aedan.html\n"
     ]
    }
   ],
   "source": [
    "url = input('Enter url: ')\n",
    "count = input('Enter count: ')\n",
    "position = input('Enter position: ')\n",
    "\n",
    "html = urllib.request.urlopen(url, context=ctx).read()\n",
    "soup = BeautifulSoup(html, 'html.parser')\n",
    "\n",
    "# Retrieve all of the anchor tags\n",
    "print(\"Retrieving\",url)\n",
    "tags = soup('a')\n",
    "for i in range(int(count)):\n",
    "    links = []\n",
    "    for tag in tags:\n",
    "        links.append(str(tag.get('href', None)))\n",
    "    html = urllib.request.urlopen(links[int(position)-1], context=ctx).read()\n",
    "    soup = BeautifulSoup(html, 'html.parser')\n",
    "    print(\"Retrieving\",links[int(position)-1])\n",
    "    tags = soup('a')\n",
    "    "
   ]
  },
  {
   "cell_type": "code",
   "execution_count": 2,
   "metadata": {},
   "outputs": [
    {
     "name": "stdout",
     "output_type": "stream",
     "text": [
      "Name: Chuck\n",
      "Attr: yes\n"
     ]
    }
   ],
   "source": [
    "import xml.etree.ElementTree as et\n",
    "data='''<person>\n",
    "        <name>Chuck</name>\n",
    "        <phone type=\"intl\">\n",
    "        +1 734 303 4456\n",
    "        </phone>\n",
    "        <email hide=\"yes\"/>\n",
    "        </person>'''\n",
    "tree=et.fromstring(data)\n",
    "print('Name:',tree.find('name').text)\n",
    "print('Attr:',tree.find('email').get('hide'))"
   ]
  },
  {
   "cell_type": "code",
   "execution_count": 7,
   "metadata": {},
   "outputs": [
    {
     "name": "stdout",
     "output_type": "stream",
     "text": [
      "User Count: 2\n",
      "Name: Chcuk\n",
      "Id 001\n",
      "Attribute: 2\n",
      "Name: Bleh\n",
      "Id 009\n",
      "Attribute: 7\n"
     ]
    }
   ],
   "source": [
    "import xml.etree.ElementTree as et\n",
    "input='''<stuff>\n",
    "        <users>\n",
    "            <user x=\"2\">\n",
    "                <id>001</id>\n",
    "                <name>Chcuk</name>\n",
    "            </user>\n",
    "            <user x=\"7\">\n",
    "                <id>009</id>\n",
    "                <name>Bleh</name>\n",
    "            </user>\n",
    "        </users>\n",
    "    </stuff>'''\n",
    "tags=et.fromstring(input)\n",
    "lst=tags.findall('users/user')\n",
    "print(\"User Count:\",len(lst))\n",
    "for item in lst:\n",
    "    print('Name:',item.find('name').text)\n",
    "    print('Id',item.find('id').text)\n",
    "    print('Attribute:',item.get('x'))"
   ]
  },
  {
   "cell_type": "code",
   "execution_count": 10,
   "metadata": {},
   "outputs": [
    {
     "name": "stdout",
     "output_type": "stream",
     "text": [
      "2546\n"
     ]
    }
   ],
   "source": [
    "import xml.etree.ElementTree as ET\n",
    "import urllib.request\n",
    "\n",
    "url= \"http://py4e-data.dr-chuck.net/comments_739068.xml\"\n",
    "html = urllib.request.urlopen(url)\n",
    "data=html.read()\n",
    "#print(data)\n",
    "tags=ET.fromstring(data)\n",
    "last=tags.findall('comments/comment')\n",
    "x=0\n",
    "for item in last:\n",
    "  element=int((item.find('count').text))\n",
    "  x=element+x\n",
    "print(x)"
   ]
  },
  {
   "cell_type": "code",
   "execution_count": 18,
   "metadata": {},
   "outputs": [
    {
     "name": "stdout",
     "output_type": "stream",
     "text": [
      "Name: Chuck\n",
      "Hide: yes\n"
     ]
    }
   ],
   "source": [
    "import json\n",
    "\n",
    "data='''\n",
    "{\n",
    "   \"name\":\"Chuck\",\n",
    "    \"phone\":{\n",
    "        \"type\":\"intl\",\n",
    "        \"number\":\"+1 765 89765 867\"\n",
    "        },\n",
    "    \"email\":{\n",
    "        \"hide\":\"yes\"\n",
    "    } \n",
    "\n",
    "}'''\n",
    "\n",
    "info=json.loads(data)\n",
    "print('Name:',info['name'])\n",
    "print('Hide:',info['email']['hide'])\n"
   ]
  },
  {
   "cell_type": "code",
   "execution_count": 41,
   "metadata": {},
   "outputs": [
    {
     "name": "stdout",
     "output_type": "stream",
     "text": [
      "User count: 2\n",
      "Name: Chuck\n",
      "ID: 001\n",
      "Attribute: 2\n",
      "Name: Chuck\n",
      "ID: 009\n",
      "Attribute: 3\n"
     ]
    }
   ],
   "source": [
    "import json\n",
    "\n",
    "data = '''\n",
    "[\n",
    "    { \"ID\": \"001\",\n",
    "      \"x\":\"2\",\n",
    "      \"name\":\"Chuck\"\n",
    "    } ,\n",
    "    { \"ID\": \"009\",\n",
    "      \"x\":\"3\",\n",
    "      \"name\":\"Chuck\"\n",
    "    }     \n",
    "]'''\n",
    "\n",
    "info=json.loads(data)\n",
    "print('User count:', len(info))\n",
    "\n",
    "for item in info:\n",
    "    print('Name:',item['name'])\n",
    "    print('ID:',item['ID'])\n",
    "    print('Attribute:',item['x'])\n",
    "    "
   ]
  },
  {
   "cell_type": "code",
   "execution_count": 7,
   "metadata": {},
   "outputs": [
    {
     "name": "stdout",
     "output_type": "stream",
     "text": [
      "2527\n"
     ]
    }
   ],
   "source": [
    "import json\n",
    "import urllib.request, urllib.parse, urllib.error\n",
    "\n",
    "url= \"http://py4e-data.dr-chuck.net/comments_739069.json\"\n",
    "html = urllib.request.urlopen(url)\n",
    "data=html.read()\n",
    "tags=json.loads(data)\n",
    "x=0\n",
    "for item in tags[\"comments\"]:\n",
    "    element=int((item['count']))\n",
    "    x=element+x\n",
    "print(x)"
   ]
  },
  {
   "cell_type": "code",
   "execution_count": 12,
   "metadata": {},
   "outputs": [
    {
     "name": "stdout",
     "output_type": "stream",
     "text": [
      "Enter location: Belgrade University\n",
      "Retrieving  http://py4e-data.dr-chuck.net/json?key=42&address=Belgrade+Universitysensor=false&address=Belgrade+University\n",
      "Retrieved 4017 characters\n",
      "Place id ChIJv_ehNbN6WkcROV6HX6xX5Vc\n"
     ]
    }
   ],
   "source": [
    "import urllib.request as ur\n",
    "import urllib.parse as up\n",
    "import json\n",
    "\n",
    "serviceurl = \"http://py4e-data.dr-chuck.net/json?key=42&address=Belgrade+University\"\n",
    "\n",
    "address_input = input(\"Enter location: \")\n",
    "params = {\"sensor\": \"false\", \"address\": address_input}\n",
    "url = serviceurl + up.urlencode(params)\n",
    "print(\"Retrieving \", url)\n",
    "data = ur.urlopen(url).read().decode('utf-8')\n",
    "print('Retrieved', len(data), 'characters')\n",
    "json_obj = json.loads(data)\n",
    "\n",
    "place_id = json_obj[\"results\"][0][\"place_id\"]\n",
    "print(\"Place id\", place_id)"
   ]
  },
  {
   "cell_type": "code",
   "execution_count": 3,
   "metadata": {},
   "outputs": [
    {
     "name": "stdout",
     "output_type": "stream",
     "text": [
      "I'm constructed\n",
      "I'm destructed 3\n",
      "so far: 1\n",
      "so far: 2\n",
      "so far: 3\n",
      "I'm destructed 3\n",
      "76\n"
     ]
    }
   ],
   "source": [
    "class partyanimal:\n",
    "    x=0\n",
    "    \n",
    "    def __init__(self):\n",
    "        print(\"I'm constructed\")\n",
    "    def party(self):\n",
    "        self.x=self.x+1\n",
    "        print(\"so far:\",self.x)\n",
    "    def __del__(self):\n",
    "        print(\"I'm destructed\",self.x)\n",
    "    \n",
    "\n",
    "an=partyanimal()\n",
    "an.party()\n",
    "an.party()\n",
    "an.party()\n",
    "an=76\n",
    "print(an)\n",
    "\n",
    "    "
   ]
  },
  {
   "cell_type": "code",
   "execution_count": 9,
   "metadata": {
    "scrolled": true
   },
   "outputs": [
    {
     "name": "stdout",
     "output_type": "stream",
     "text": [
      "Sally I'm constructed\n",
      "party count: 1\n",
      "Jace I'm constructed\n",
      "party count: 1\n",
      "party count: 2\n"
     ]
    }
   ],
   "source": [
    "class partyanimal:\n",
    "    x=0\n",
    "    name=\"\"\n",
    "    def __init__(self,z):\n",
    "        self.name=z\n",
    "        print(self.name,\"I'm constructed\")\n",
    "    def party(self):\n",
    "        self.x=self.x+1\n",
    "        print(\"party count:\",self.x)\n",
    "    \n",
    "\n",
    "an=partyanimal(\"Sally\")\n",
    "an.party()\n",
    "bo=partyanimal(\"Jace\")\n",
    "bo.party()\n",
    "an.party()"
   ]
  },
  {
   "cell_type": "code",
   "execution_count": 14,
   "metadata": {},
   "outputs": [
    {
     "name": "stdout",
     "output_type": "stream",
     "text": [
      "Sally I'm constructed\n",
      "party count: 1\n",
      "Jimmy I'm constructed\n",
      "party count: 1\n",
      "party count: 2\n",
      "Jimmy points 7\n"
     ]
    }
   ],
   "source": [
    "#Inheritance concept\n",
    "class partyanimal:\n",
    "    x=0\n",
    "    name=\"\"\n",
    "    def __init__(self,z):\n",
    "        self.name=z\n",
    "        print(self.name,\"I'm constructed\")\n",
    "    def party(self):\n",
    "        self.x=self.x+1\n",
    "        print(\"party count:\",self.x)\n",
    "\n",
    "class football(partyanimal):\n",
    "    points=0\n",
    "    def touchdown(self):\n",
    "        self.points=self.points+7\n",
    "        self.party()\n",
    "        print(self.name,\"points\",self.points)\n",
    "        \n",
    "s=partyanimal(\"Sally\")\n",
    "s.party()\n",
    "j=football(\"Jimmy\")\n",
    "j.party()\n",
    "j.touchdown()"
   ]
  },
  {
   "cell_type": "code",
   "execution_count": 1,
   "metadata": {},
   "outputs": [],
   "source": [
    "#SQL QUERIES \n",
    "#CREATE TABLE Users(name VARCHAR(128),email VARCHAR(128))\n",
    "#UPDATE Users SET name=\"Rawhen\" WHERE email=\"rohan@gamil.com\"\n",
    "#INSERT into Users(name,email) VALUES ('Rohan','rohan@gmail.com')\n",
    "#DELETE FROM Users WHERE email='sid@gmail.com'\n",
    "#SELECT * FROM Users\n",
    "#SELECT * FROM Users where name='Rawhen'\n",
    "#SELECT * FROM Users order by name"
   ]
  },
  {
   "cell_type": "code",
   "execution_count": 14,
   "metadata": {},
   "outputs": [
    {
     "name": "stdout",
     "output_type": "stream",
     "text": [
      "Enter file name: mbox.txt\n",
      "iupui.edu 536\n",
      "umich.edu 491\n",
      "indiana.edu 178\n",
      "caret.cam.ac.uk 157\n",
      "vt.edu 110\n",
      "uct.ac.za 96\n",
      "media.berkeley.edu 56\n",
      "ufp.pt 28\n",
      "gmail.com 25\n",
      "et.gatech.edu 17\n"
     ]
    }
   ],
   "source": [
    "\n",
    "import sqlite3\n",
    "\n",
    "conn = sqlite3.connect('emaildb2.sqlite')\n",
    "cur = conn.cursor()\n",
    "\n",
    "cur.execute('''\n",
    "DROP TABLE IF EXISTS Counts''')\n",
    "\n",
    "cur.execute('''\n",
    "CREATE TABLE Counts (org TEXT, count INTEGER)''')\n",
    "\n",
    "fname = input('Enter file name: ')\n",
    "#if (len(fname) < 1): fname = 'mbox.txt'\n",
    "fh = open(fname)\n",
    "#list_1 =[]\n",
    "for line in fh:\n",
    "    if not line.startswith('From: '): continue\n",
    "    pieces = line.split()\n",
    "    email = pieces[1]\n",
    "    dom = email.find('@')\n",
    "    org = email[dom+1:len(email)]\n",
    "\n",
    "    cur.execute('SELECT count FROM Counts WHERE org = ? ', (org,))\n",
    "    row = cur.fetchone()\n",
    "    if row is None:\n",
    "        cur.execute('''INSERT INTO Counts (org, count)\n",
    "                VALUES (?, 1)''', (org,))\n",
    "    else:\n",
    "        cur.execute('UPDATE Counts SET count = count + 1 WHERE org = ?',\n",
    "                    (org,))\n",
    "conn.commit()\n",
    "# https://www.sqlite.org/lang_select.html\n",
    "sqlstr = 'SELECT org, count FROM Counts ORDER BY count DESC LIMIT 10'\n",
    "\n",
    "for row in cur.execute(sqlstr):\n",
    "    print(str(row[0]), row[1])\n",
    "\n",
    "cur.close()"
   ]
  },
  {
   "cell_type": "code",
   "execution_count": 5,
   "metadata": {},
   "outputs": [],
   "source": [
    "#Join \n",
    "#SELECT Album.name,Artist.name FROM Album JOIN Artist WHERE Artist.id=Album.artist_id (instead of WHERE, 'ON' can be used)\n",
    "\n",
    "#SELECT Track.title,Genre.name FROM Track JOIN Genre ON Genre.id=Track.genre_id\n",
    "\n",
    "#SELECT Track.title,Genre.name FROM Track JOIN Genre (Cross 2*4=8 rows)\n",
    "\n",
    "#SELECT Track.title,Artist.name,Album.name,Genre.name FROM Track JOIN Genre JOIN Album JOIN Artist on Track.genre_id=Genre.id \n",
    "#AND Track.album_id=Album.id AND Artist.id=Album.artist_id\n"
   ]
  },
  {
   "cell_type": "code",
   "execution_count": 13,
   "metadata": {},
   "outputs": [
    {
     "name": "stdout",
     "output_type": "stream",
     "text": [
      "Enter file name: Library.xml\n",
      "Dict count: 404\n",
      "Another One Bites The Dust Queen Greatest Hits Rock 55 100 217103\n",
      "Asche Zu Asche Rammstein Herzeleid Industrial 79 100 231810\n",
      "Beauty School Dropout Various Grease Soundtrack 48 100 239960\n",
      "Black Dog Led Zeppelin IV Rock 109 100 296620\n",
      "Bring The Boys Back Home Pink Floyd The Wall [Disc 2] Rock 33 100 87118\n",
      "Circles Bryan Lee Blues Is Funk 54 60 355369\n",
      "Comfortably Numb Pink Floyd The Wall [Disc 2] Rock 36 100 384130\n",
      "Crazy Little Thing Called Love Queen Greatest Hits Rock 38 100 163631\n",
      "Electric Funeral Black Sabbath Paranoid Metal 44 100 293015\n",
      "Fat Bottomed Girls Queen Greatest Hits Rock 38 100 257515\n",
      "For Those About To Rock (We Salute You) AC/DC Who Made Who Rock 84 100 353750\n",
      "Four Sticks Led Zeppelin IV Rock 84 100 284421\n",
      "Furious Angels Rob Dougan The Matrix Reloaded Soundtrack 54 100 330004\n",
      "Gelle Bryan Lee Blues Is Blues/R&B 45 60 199836\n",
      "Going To California Led Zeppelin IV Rock 100 100 215666\n",
      "Grease Various Grease Soundtrack 42 100 205792\n",
      "Hand of Doom Black Sabbath Paranoid Metal 36 100 429609\n",
      "Hells Bells AC/DC Who Made Who Rock 82 100 312946\n",
      "Hey You Pink Floyd The Wall [Disc 2] Rock 23 100 282305\n",
      "I Worry Bryan Lee Blues Is Blues/R&B 33 100 341315\n",
      "Iron Man Black Sabbath Paranoid Metal 39 100 358530\n",
      "Is There Anybody Out There? Pink Floyd The Wall [Disc 2] Rock 26 100 160679\n",
      "It was a Very Good Year Frank Sinatra Greatest Hits Easy Listening 39 100 268852\n",
      "Its Your Move Bryan Lee Blues Is Blues/R&B 40 100 245002\n",
      "Jack the Stripper/Fairies Wear Boots Black Sabbath Paranoid Metal 35 100 373995\n",
      "Killer Queen Queen Greatest Hits Rock 34 100 181368\n",
      "Laichzeit Rammstein Herzeleid Industrial 41 100 262844\n",
      "Let me Down Easy Bryan Lee Blues Is Blues/R&B 43 100 331441\n",
      "Misty Mountain Hop Led Zeppelin IV Rock 88 100 278831\n",
      "No Low Down Bryan Lee Blues Is Blues/R&B 39 100 245760\n",
      "Now You Are Gone America Greatest Hits Easy Listening 52 100 187559\n",
      "Outside The Wall Pink Floyd The Wall [Disc 2] Rock 16 100 104437\n",
      "Paranoid Black Sabbath Paranoid Metal 36 100 172930\n",
      "Planet Caravan Black Sabbath Paranoid Metal 38 100 274938\n",
      "Pretty Jeanie Bryan Lee Blues Is Blues/R&B 34 100 225175\n",
      "Rammstein Rammstein Herzeleid Industrial 45 100 265090\n",
      "Rat Salad Black Sabbath Paranoid Metal 46 100 150230\n",
      "Rock & Roll Led Zeppelin IV Rock 109 100 220891\n",
      "Rode Across the Desert America Greatest Hits Easy Listening 60 100 249887\n",
      "Sandy Various Grease Soundtrack 36 100 155742\n",
      "Shake Your Foundations AC/DC Who Made Who Rock 85 100 233769\n",
      "Sister Golden Hair America Greatest Hits Easy Listening 60 100 202057\n",
      "Somebody To Love Queen Greatest Hits Rock 17 100 297586\n",
      "Stairway To Heaven Led Zeppelin IV Rock 93 100 481567\n",
      "Strangers in the Night Frank Sinatra Greatest Hits Easy Listening 42 100 158484\n",
      "Summer Nights Various Grease Soundtrack 35 100 216973\n",
      "Summer Wind Frank Sinatra Greatest Hits Easy Listening 46 100 177554\n",
      "Thats Life Frank Sinatra Greatest Hits Easy Listening 43 100 189988\n",
      "The Battle Of Evermore Led Zeppelin IV Rock 110 100 351529\n",
      "The Blues \"Is\" Bryan Lee Blues Is Blues/R&B 45 100 252238\n",
      "There it Is Bryan Lee Blues Is Blues/R&B 35 100 395441\n",
      "Think Bryan Lee Blues Is Blues/R&B 41 100 320339\n",
      "This Town Frank Sinatra Greatest Hits Easy Listening 44 100 185051\n",
      "Tin Man America Greatest Hits Easy Listening 50 100 210076\n",
      "Track 01 Billy Price Danger Zone Blues/R&B 47 100 261825\n",
      "Track 02 Billy Price Danger Zone Blues/R&B 42 100 165459\n",
      "Track 03 Billy Price Danger Zone Blues/R&B 41 100 206471\n",
      "Messin with the Kid The Canettes Blues Band Self Titled Blues/R&B 23 100 226377\n",
      "Track 04 Billy Price Danger Zone Blues/R&B 37 100 257175\n",
      "Stormy Monday The Canettes Blues Band Self Titled Blues/R&B 29 100 464143\n",
      "Track 05 Billy Price Danger Zone Blues/R&B 42 100 230295\n",
      "Waiting on Ice Bryan Lee Blues Is Blues/R&B 37 100 289384\n",
      "War Pigs/Luke's Wall Black Sabbath Paranoid Metal 38 100 478197\n",
      "We Are The Champions Queen Greatest Hits Rock 24 100 181864\n",
      "We Will Rock You Queen Greatest Hits Rock 33 100 123559\n",
      "When Somebody Loves You Frank Sinatra Greatest Hits Easy Listening 43 100 117263\n",
      "When The Levee Breaks Led Zeppelin IV Rock 83 100 427624\n",
      "You are the One that I Want Various Grease Soundtrack 31 100 169900\n",
      "You Done Me Wrong Bryan Lee Blues Is Blues/R&B 35 100 200097\n",
      "You Shook Me All Night Long AC/DC Who Made Who Rock 92 100 210938\n",
      "You're My Best Friend Queen Greatest Hits Rock 31 100 172643\n",
      "Zion Fluke The Matrix Reloaded Soundtrack 47 100 273528\n",
      "Who Made Who AC/DC Who Made Who Rock 110 100 207203\n",
      "D.T. AC/DC Who Made Who Rock 90 None 173714\n",
      "Sink the Pink AC/DC Who Made Who Rock 83 None 253466\n",
      "Ride On AC/DC Who Made Who Rock 75 None 351268\n",
      "Chase the Ace AC/DC Who Made Who Rock 93 None 181420\n",
      "Wollt Ihr Das Bett In Flammen Sehen Rammstein Herzeleid Industrial 50 None 317387\n",
      "Der Meister Rammstein Herzeleid Industrial 46 None 250801\n",
      "Weisses Fleisch Rammstein Herzeleid Industrial 52 None 215902\n",
      "Seemann Rammstein Herzeleid Industrial 34 None 288235\n",
      "Du Riechst So Gut Rammstein Herzeleid Industrial 50 None 289332\n",
      "Das Alte Leid Rammstein Herzeleid Industrial 46 None 344581\n",
      "Heirate Mich Rammstein Herzeleid Industrial 39 None 284734\n",
      "Herzeleid Rammstein Herzeleid Industrial 42 None 223425\n",
      "Baba O'Riley The Who Who's Next Rock 45 None 298448\n",
      "Bargain The Who Who's Next Rock 37 None 331676\n",
      "Love Ain't for Keeping The Who Who's Next Rock 24 None 130560\n",
      "My Wife The Who Who's Next Rock 17 None 213786\n",
      "The Song Is Over The Who Who's Next Rock 14 None 375797\n",
      "Getting In Tune The Who Who's Next Rock 27 None 288809\n",
      "Going Mobile The Who Who's Next Rock 28 100 221910\n",
      "Behind Blue Eyes The Who Who's Next Rock 43 None 221570\n",
      "Won't Get Fooled Again The Who Who's Next Rock 21 None 511111\n",
      "Folsom Prison Blues Johnny Cash The Legend Of Johnny Cash Country 47 100 170004\n",
      "I Walk The Line Johnny Cash The Legend Of Johnny Cash Country 33 100 165720\n",
      "Get Rhythm Johnny Cash The Legend Of Johnny Cash Country 35 100 134530\n",
      "Big River Johnny Cash The Legend Of Johnny Cash Country 51 None 152711\n",
      "Guess Things Happen That Way Johnny Cash The Legend Of Johnny Cash Country 35 None 111386\n",
      "Ring Of Fire Johnny Cash The Legend Of Johnny Cash Country 30 100 157100\n",
      "Jackson Johnny Cash The Legend Of Johnny Cash Country 35 100 166530\n",
      "A Boy Named Sue (live) Johnny Cash The Legend Of Johnny Cash Country 37 None 226063\n",
      "You Raise Me Up Selah Hiding Place Gospel & Religious 9 None 302262\n",
      "Hold On, I'm Coming The Canettes Blues Band On Tap & In the Can Blues/R&B 34 100 282566\n",
      "Got my Mojo Working The Canettes Blues Band On Tap & In the Can Blues/R&B 52 100 310517\n",
      "Sweet Home Chicago The Canettes Blues Band On Tap & In the Can Blues/R&B 27 100 375849\n",
      "Heavy Love The Canettes Blues Band On Tap & In the Can Blues/R&B 28 100 253544\n",
      "Cold Cold Feeling The Canettes Blues Band On Tap & In the Can Blues/R&B 43 100 261929\n",
      "Lonely Avenue The Canettes Blues Band On Tap & In the Can Blues/R&B 24 100 292022\n",
      "Good Morning Little Schoolgirl The Canettes Blues Band On Tap & In the Can Blues/R&B 20 100 278648\n",
      "Dust My Broom The Canettes Blues Band On Tap & In the Can Blues/R&B 24 100 299311\n",
      "Gimme' Some Lovin The Canettes Blues Band On Tap & In the Can Blues/R&B 35 100 227239\n",
      "Everybody Needs Somebody to Love The Canettes Blues Band On Tap & In the Can Blues/R&B 24 100 195186\n",
      "Black Magic Woman The Canettes Blues Band On Tap & In the Can Blues/R&B 31 100 442644\n",
      "Steppin' Rooster The Canettes Blues Band On Tap & In the Can Blues/R&B 21 100 704862\n",
      "Our Love is Drifting The Canettes Blues Band On Tap & In the Can Blues/R&B 15 100 292649\n",
      "Doin' 100 The Canettes Blues Band On Tap & In the Can Blues/R&B 20 100 343980\n",
      "Mother Joy Matt Ender Natural Wonders Music Sampler 1999 New Age 463 None 287294\n",
      "Soldier's Lament Steve McDonald Natural Wonders Music Sampler 1999 New Age 371 None 347193\n",
      "Dulaman Altan Natural Wonders Music Sampler 1999 New Age 403 None 223007\n",
      "The Arrow Chris Spheeris Natural Wonders Music Sampler 1999 New Age 416 None 319869\n",
      "Spanish Eyes La Esperanza Natural Wonders Music Sampler 1999 New Age 375 None 259030\n",
      "Banana Bay Luis Villegas Natural Wonders Music Sampler 1999 New Age 403 None 198060\n",
      "Aguas De Marco Rosa Passos Natural Wonders Music Sampler 1999 New Age 407 None 179408\n",
      "Tamborea Energipsy Natural Wonders Music Sampler 1999 New Age 355 None 235389\n",
      "Gone Hollie Smith Natural Wonders Music Sampler 1999 New Age 362 None 196414\n",
      "The Immigrant Joanie Madden Natural Wonders Music Sampler 1999 New Age 350 None 362631\n",
      "Pahrump-Big Water Cusco Natural Wonders Music Sampler 1999 New Age 342 None 191634\n",
      "Seeker's Quest Cheryl Gunn Natural Wonders Music Sampler 1999 New Age 337 None 236434\n",
      "Floating To Forever Dean Everson Natural Wonders Music Sampler 1999 New Age 337 None 351686\n",
      "Open Road Jeff Bailey Relaxing Jazz Jazz 10 None 318563\n",
      "Ruby Kaiser Chiefs Yours Truly, Angry Mob Alternative & Punk 13 None 205008\n",
      "The Angry Mob Kaiser Chiefs Yours Truly, Angry Mob Alternative & Punk 41 None 288313\n"
     ]
    },
    {
     "name": "stdout",
     "output_type": "stream",
     "text": [
      "Heat Dies Down Kaiser Chiefs Yours Truly, Angry Mob Alternative & Punk 12 None 237061\n",
      "Highroyds Kaiser Chiefs Yours Truly, Angry Mob Alternative & Punk 10 None 199575\n",
      "Love's Not A Competition (But I'm Winning) Kaiser Chiefs Yours Truly, Angry Mob Alternative & Punk 11 None 197799\n",
      "Thank You Very Much Kaiser Chiefs Yours Truly, Angry Mob Alternative & Punk 11 None 157753\n",
      "I Can Do It Without You Kaiser Chiefs Yours Truly, Angry Mob Alternative & Punk 11 None 204199\n",
      "My Kind Of Guy Kaiser Chiefs Yours Truly, Angry Mob Alternative & Punk 10 None 246595\n",
      "Everything Is Average Nowadays Kaiser Chiefs Yours Truly, Angry Mob Alternative & Punk 16 None 164754\n",
      "Learnt My Lesson Well Kaiser Chiefs Yours Truly, Angry Mob Alternative & Punk 9 None 325955\n",
      "Try Your Best Kaiser Chiefs Yours Truly, Angry Mob Alternative & Punk 8 None 222511\n",
      "Retirement Kaiser Chiefs Yours Truly, Angry Mob Alternative & Punk 10 None 237426\n",
      "The Angry Mob [Live From Berlin] Kaiser Chiefs Yours Truly, Angry Mob Alternative & Punk 40 None 279066\n",
      "I Like To Fight Kaiser Chiefs Yours Truly, Angry Mob Alternative & Punk 8 None 218566\n",
      "From The Neck Down Kaiser Chiefs Yours Truly, Angry Mob Alternative & Punk 15 None 147226\n",
      "The Wisdom of Crowds: Why the Many Are Smarter than the Few Part 1 of 3 James Surowiecki The Wisdom of Crowds: Why the Many Are Smarter than the Few (Abridged Nonfiction) Business 15 None 8586749\n",
      "The Wisdom of Crowds: Why the Many Are Smarter than the Few Part 2 of 3 James Surowiecki The Wisdom of Crowds: Why the Many Are Smarter than the Few (Abridged Nonfiction) Business 9 None 8443432\n",
      "The Wisdom of Crowds: Why the Many Are Smarter than the Few Part 3 of 3 James Surowiecki The Wisdom of Crowds: Why the Many Are Smarter than the Few (Abridged Nonfiction) Business 3 None 4168829\n",
      "The Wisdom of Crowds: Why the Many Are Smarter Than the Few (Unabridged) Part 1 of 5 James Surowiecki The Wisdom of Crowds: Why the Many Are Smarter Than the Few (Unabridged) Nonfiction 4 None 7920893\n",
      "The Wisdom of Crowds: Why the Many Are Smarter Than the Few (Unabridged) Part 2 of 5 James Surowiecki The Wisdom of Crowds: Why the Many Are Smarter Than the Few (Unabridged) Nonfiction None None 7921106\n",
      "The Wisdom of Crowds: Why the Many Are Smarter Than the Few (Unabridged) Part 3 of 5 James Surowiecki The Wisdom of Crowds: Why the Many Are Smarter Than the Few (Unabridged) Nonfiction None None 7965736\n",
      "The Wisdom of Crowds: Why the Many Are Smarter Than the Few (Unabridged) Part 4 of 5 James Surowiecki The Wisdom of Crowds: Why the Many Are Smarter Than the Few (Unabridged) Nonfiction 1 None 9653330\n",
      "The Wisdom of Crowds: Why the Many Are Smarter Than the Few (Unabridged) Part 5 of 5 James Surowiecki The Wisdom of Crowds: Why the Many Are Smarter Than the Few (Unabridged) Nonfiction None None 746536\n",
      "Misty David Osborne Moonlight And Love Songs Classical 302 None 249312\n",
      "My Funny Valentine David Osborne Moonlight And Love Songs Classical 301 None 235885\n",
      "Since I Don't Have You David Osborne Moonlight And Love Songs Classical 288 None 251846\n",
      "Tenderly David Osborne Moonlight And Love Songs Classical 284 None 227395\n",
      "When I Fall In Love David Osborne Moonlight And Love Songs Classical 281 None 187768\n",
      "Unforgettable David Osborne Moonlight And Love Songs Classical 280 None 272927\n",
      "The Way You Look Tonight David Osborne Moonlight And Love Songs Classical 277 None 247222\n",
      "I've Grown Accustomed To Your Face David Osborne Moonlight And Love Songs Classical 280 None 148035\n",
      "Smoke Gets In Your Eyes David Osborne Moonlight And Love Songs Classical 277 None 198504\n",
      "Fly Me To The Moon David Osborne Moonlight And Love Songs Classical 275 None 182543\n",
      "Unchained Melody David Osborne Moonlight And Love Songs Classical 265 None 259369\n",
      "These Foolish Things Remind Me Of You David Osborne Moonlight And Love Songs Classical 267 None 184711\n",
      "La Vie En Rose David Osborne Moonlight And Love Songs Classical 259 None 276767\n",
      "As Time Goes By David Osborne Moonlight And Love Songs Classical 290 None 257985\n",
      "Pilot Fairly Legal Fairly Legal, Season 1 Drama 1 None 3847006\n",
      "hte postal service - the impor The Postal Service unreleased demo Electronic None None 193959\n",
      "Winter Wonderland Bing Crosby Seasons Greatings Holiday 163 None 144744\n",
      "Jingle Bells Frank Sinatra Seasons Greatings Holiday 271 None 121756\n",
      "White Christmas Bing Crosby Seasons Greatings Holiday 158 None 95634\n",
      "The Christmas Song Frank Sinatra Seasons Greatings Holiday 272 None 209632\n",
      "Little Drummer Boy Bing Crosby Seasons Greatings Holiday 154 None 178311\n",
      "Silent Night Frank Sinatra Seasons Greatings Holiday 257 None 149054\n",
      "Let It Snow Bing Crosby Seasons Greatings Holiday 154 None 125126\n",
      "Mistletoe And Holly Frank Sinatra Seasons Greatings Holiday 257 None 138501\n",
      "O Holy Night Bing Crosby Seasons Greatings Holiday 150 None 214021\n",
      "Have Yourself A Merry Little Christmas Frank Sinatra Seasons Greatings Holiday 252 None 208248\n",
      "Do You Hear What I Hear Bing Crosby Seasons Greatings Holiday 155 None 164728\n",
      "I'll Be Home For Christmas Frank Sinatra Seasons Greatings Holiday 249 None 190876\n",
      "Voices Disturbed The Sickness Alternative None None 191764\n",
      "The Game Disturbed The Sickness Alternative 1 None 227134\n",
      "Stupify Disturbed The Sickness Alternative 1 None 274233\n",
      "Down With The Sickness Disturbed The Sickness Alternative 1 None 278726\n",
      "Violence Fetish Disturbed The Sickness Alternative None None 203833\n",
      "Fear Disturbed The Sickness Alternative 4 None 227004\n",
      "Numb Disturbed The Sickness Alternative None None 224940\n",
      "Want Disturbed The Sickness Alternative None None 232803\n",
      "Conflict Disturbed The Sickness Alternative 5 None 275330\n",
      "Shout 2000 Disturbed The Sickness Alternative 1 None 257802\n",
      "Droppin' Plates Disturbed The Sickness Alternative 4 None 229302\n",
      "Meaning Of Life Disturbed The Sickness Alternative 3 None 242599\n",
      "PY4INF-01-Intro.mp3 Recording by Dr. Chuck Python for Informatics's official Podcast. Podcast 1 None 3428075\n",
      "Eben Upton: Raspberry Pi IEEE Computer Society Computing Conversations Podcast 2 None 661368\n",
      "Andrew Tanenbaum: Writing the Book on Networks IEEE Computer Society Computing Conversations Podcast 4 None 535040\n",
      "Massimo Banzi: Building Arduino IEEE Computer Society Computing Conversations Podcast 1 None 567745\n",
      "PY4INF-04-Functions.mp3 Recording by Dr. Chuck Python for Informatics's official Podcast. Podcast None None 1683800\n",
      "PY4INF-02-Expressions.mp3 Recording by Dr. Chuck Python for Informatics's official Podcast. Podcast None None 2578416\n",
      "PY4INF-03-Conditional.mp3 Recording by Dr. Chuck Python for Informatics's official Podcast. Podcast None None 2296058\n",
      "PY4INF-05-Iterations.mp3 Recording by Dr. Chuck Python for Informatics's official Podcast. Podcast 1 None 2804297\n",
      "PY4INF-06-Strings.mp3 Recording by Dr. Chuck Python for Informatics's official Podcast. Podcast None None 1677844\n",
      "PY4INF-07-Files.mp3 Recording by Dr. Chuck Python for Informatics's official Podcast. Podcast None None 1478713\n",
      "PY4INF-08-Lists.mp3 Recording by Dr. Chuck Python for Informatics's official Podcast. Podcast None None 1636231\n",
      "PY4INF-09-Dictionaries.mp3 Recording by Dr. Chuck Python for Informatics's official Podcast. Podcast None None 2254445\n",
      "PY4INF-10-Tuples.mp3 Recording by Dr. Chuck Python for Informatics's official Podcast. Podcast None None 1597596\n",
      "PY4INF-11-Regex.mp3 Recording by Dr. Chuck Python for Informatics's official Podcast. Podcast None None 2123702\n",
      "John C. Hollar: History of Computing IEEE Computer Society Computing Conversations Podcast 1 None 694073\n",
      "Bob Metcalfe: Ethernet at Forty IEEE Computer Society Computing Conversations Podcast None None 1031392\n",
      "Gordon Bell: Building Blocks of Computing IEEE Computer Society Computing Conversations Podcast 1 None 744620\n",
      "Ian Horrocks: Standardizing OWL IEEE Computer Society Computing Conversations Podcast 1 None 572212\n",
      "Katie Hafner: The Origins of the Internet IEEE Computer Society Computing Conversations Podcast 1 None 652460\n",
      "Larry Smarr: Building Mosaic IEEE Computer Society Computing Conversations Podcast None None 894693\n",
      "Len Kleinrock: The Theory of Packets IEEE Computer Society Computing Conversations Podcast 1 None 674742\n",
      "Mitchell Baker: The Mozilla Foundation IEEE Computer Society Computing Conversations Podcast None None 994246\n",
      "Pooja Sankar: Building the Piazza Collaboration System IEEE Computer Society Computing Conversations Podcast None None 496404\n",
      "Van Jacobson: Content-Centric Networking IEEE Computer Society Computing Conversations Podcast None None 780251\n",
      "The Apache Software Foundation IEEE Computer Society Computing Conversations Podcast None None 542484\n",
      "A Brief History of Packets IEEE Computer Society Computing Conversations Podcast None None 1004643\n",
      "Discovering JavaScript Object Notation IEEE Computer Society Computing Conversations Podcast None None 650971\n",
      "Inventing PHP IEEE Computer Society Computing Conversations Podcast None None 494915\n",
      "Monash Museum of Computing History IEEE Computer Society Computing Conversations Podcast None None 362657\n",
      "The Rise of JavaScript IEEE Computer Society Computing Conversations Podcast None None 526132\n",
      "Joseph Hardin: NCSA Mosaic IEEE Computer Society Computing Conversations Podcast None None 845635\n",
      "Len Kleinrock on the Internet's First Two Packets IEEE Computer Society Computing Conversations Podcast 1 None 594390\n"
     ]
    },
    {
     "name": "stdout",
     "output_type": "stream",
     "text": [
      "Doug Van Houweling on Building the NSFNet IEEE Computer Society Computing Conversations Podcast None None 773146\n",
      "Computing Conversations: Nathaniel Borenstein on MIME IEEE Computer Society Computing Conversations Podcast None None 682135\n",
      "You Don't Mess Around With Jim Jim Croce Classic Hits Folk None None 184398\n",
      "Andrew S. Tanenbaum on MINIX IEEE Computer Society Computing Conversations Podcast None None 603000\n",
      "Computing Conversations: Elizabeth Fong on SQL Standards IEEE Computer Society Computing Conversations Podcast None None 533577\n",
      "Nii Quaynor on Bringing the Internet to Africa IEEE Computer Society Computing Conversations Podcast 1 None 673332\n",
      "PHP-09-Transactions.mp3 Created by Sakai SI 664 W14's official Podcast. Podcast None None 1728888\n",
      "PHP-01-Intro.mp3 Created by Sakai SI 664 W14's official Podcast. Podcast None None 2250624\n",
      "PHP-02-Install.mp3 Created by Sakai SI 664 W14's official Podcast. Podcast 1 None None\n",
      "PHP-04-Expressions.mp3 Created by Sakai SI 664 W14's official Podcast. Podcast None None 2168064\n",
      "PHP-05-Functions.mp3 Created by Sakai SI 664 W14's official Podcast. Podcast None None 1446792\n",
      "PHP-06-Strings.mp3 Created by Sakai SI 664 W14's official Podcast. Podcast None None 417696\n",
      "PHP-12-Sessions.mp3 Created by Sakai SI 664 W14's official Podcast. Podcast None None 3624312\n",
      "PHP-06-Objects.mp3 Created by Sakai SI 664 W14's official Podcast. Podcast None None 2455368\n",
      "SI664-13-JSON-A.mp3 Created by Sakai SI 664 W14's official Podcast. Podcast None None 4407672\n",
      "PHP-13-JavaScript.mp3 Created by Sakai SI 664 W14's official Podcast. Podcast None None 3650088\n",
      "PHP-09-Database-Design.mp3 Created by Sakai SI 664 W14's official Podcast. Podcast None None 3591072\n",
      "PHP-Tsugi-Install.mp3 Created by Sakai SI 664 W14's official Podcast. Podcast None None 3181656\n",
      "PHP-10-MySQL-PDO.mp3 Created by Sakai SI 664 W14's official Podcast. Podcast None None 4536685\n",
      "PHP-08-MySQL.mp3 Created by Sakai SI 664 W14's official Podcast. Podcast None None 3994656\n",
      "SI664-13-JSON-B.mp3 Created by Sakai SI 664 W14's official Podcast. Podcast None None 1484616\n",
      "IMS-Learning-Tools-Interoperability.mp3 Created by Sakai SI 664 W14's official Podcast. Podcast None None 2185848\n",
      "An Interview with Don Waters Matt Pasiewicz CNI Event Coverage Speech 2 None 1411082\n",
      "PY4INF-11-Regex.mp3 Recording by Dr. Chuck Python for Informatics's official Podcast. Podcast None None 2123702\n",
      "PY4INF-10-Tuples.mp3 Recording by Dr. Chuck Python for Informatics's official Podcast. Podcast None None 1597596\n",
      "PY4INF-09-Dictionaries.mp3 Recording by Dr. Chuck Python for Informatics's official Podcast. Podcast None None 2254445\n",
      "PY4INF-08-Lists.mp3 Recording by Dr. Chuck Python for Informatics's official Podcast. Podcast None None 1636231\n",
      "PY4INF-07-Files.mp3 Recording by Dr. Chuck Python for Informatics's official Podcast. Podcast None None 1478713\n",
      "PY4INF-06-Strings.mp3 Recording by Dr. Chuck Python for Informatics's official Podcast. Podcast None None 1677844\n",
      "PY4INF-05-Iterations.mp3 Recording by Dr. Chuck Python for Informatics's official Podcast. Podcast None None 2804297\n",
      "PY4INF-04-Functions.mp3 Recording by Dr. Chuck Python for Informatics's official Podcast. Podcast None None 1683800\n",
      "PY4INF-03-Conditional.mp3 Recording by Dr. Chuck Python for Informatics's official Podcast. Podcast None None 2296058\n",
      "PY4INF-02-Expressions.mp3 Recording by Dr. Chuck Python for Informatics's official Podcast. Podcast None None 2578416\n",
      "PY4INF-01-Intro.mp3 Recording by Dr. Chuck Python for Informatics's official Podcast. Podcast None None 3428075\n",
      "Py4Inf-11-Regex.mp3 Recording by Dr. Chuck Python for Informatics's official Podcast. Podcast None None 2123702\n",
      "Py4Inf-10-Tuples.mp3 Recording by Dr. Chuck Python for Informatics's official Podcast. Podcast None None 1597596\n",
      "Py4Inf-09-Dictionaries.mp3 Recording by Dr. Chuck Python for Informatics's official Podcast. Podcast None None 2254445\n",
      "Py4Inf-08-Lists.mp3 Recording by Dr. Chuck Python for Informatics's official Podcast. Podcast None None 1636231\n",
      "Py4Inf-07-Files.mp3 Recording by Dr. Chuck Python for Informatics's official Podcast. Podcast None None 1478713\n",
      "Py4Inf-06-Strings.mp3 Recording by Dr. Chuck Python for Informatics's official Podcast. Podcast None None 1677844\n",
      "Py4Inf-05-Iterations.mp3 Recording by Dr. Chuck Python for Informatics's official Podcast. Podcast None None 2804297\n",
      "Py4Inf-04-Functions.mp3 Recording by Dr. Chuck Python for Informatics's official Podcast. Podcast None None 1683800\n",
      "Py4Inf-03-Conditional.mp3 Recording by Dr. Chuck Python for Informatics's official Podcast. Podcast None None 2296058\n",
      "Py4Inf-02-Expressions.mp3 Recording by Dr. Chuck Python for Informatics's official Podcast. Podcast None None 2578416\n",
      "Py4Inf-01-Intro.mp3 Recording by Dr. Chuck Python for Informatics's official Podcast. Podcast None None 3428075\n",
      "Ian Foster on the Globus Project IEEE Computer Society Computing Conversations Podcast 1 None 538305\n",
      "Khan Academy and Computer Science IEEE Computer Society Computing Conversations Podcast 1 None 558837\n",
      "Guido van Rossumon the Early Years of Python IEEE Computer Society Computing Conversations Podcast 1 None 701884\n",
      "Guido van Rossum on the Modern Era of Python IEEE Computer Society Computing Conversations Podcast None None 741616\n",
      "John Resig on Building jQuery IEEE Computer Society Computing Conversations Podcast None None 595983\n",
      "Roy T. Fielding on Understanding the REST Style IEEE Computer Society Computing Conversations Podcast 1 None 683650\n",
      "Anil Jain: 25 Years of Biometric Recognition IEEE Computer Society Computing Conversations Podcast None None 661368\n",
      "Waste Management Undercover Boss Undercover Boss, Season 1 Reality TV 1 None 2565232\n",
      "Sleep Like a Baby Tonight U2 Songs of Innocence Rock None None 301641\n",
      "Evergreen The Black Crowes Warpaint Rock None None 261373\n",
      "Oh Josephine The Black Crowes Warpaint Rock None None 398907\n",
      "Movin' On Down the Line The Black Crowes Warpaint Rock None None 342693\n",
      "Wounded Bird The Black Crowes Warpaint Rock None None 263453\n",
      "Volcano U2 Songs of Innocence Rock None None 194116\n",
      "Wee Who See the Deep The Black Crowes Warpaint Rock None None 290520\n",
      "Cedarwood Road U2 Songs of Innocence Rock None None 265268\n",
      "Locust Street The Black Crowes Warpaint Rock None None 255240\n",
      "Raised By Wolves U2 Songs of Innocence Rock None None 245599\n",
      "The Troubles U2 Songs of Innocence Rock None None 285843\n",
      "This Is Where You Can Reach Me Now U2 Songs of Innocence Rock None None 305134\n",
      "God's Got It The Black Crowes Warpaint Rock None None 202653\n",
      "California (There Is No End to Love) U2 Songs of Innocence Rock None None 239846\n",
      "Every Breaking Wave U2 Songs of Innocence Rock None None 252162\n",
      "Interview With the Onion News Network Onion News Network Onion News Network, Season 1 Comedy 1 None 302002\n",
      "Song for Someone U2 Songs of Innocence Rock None None 226763\n",
      "The Miracle (Of Joey Ramone) U2 Songs of Innocence Rock None None 255382\n",
      "Iris (Hold Me Close) U2 Songs of Innocence Rock None None 319457\n",
      "Goodbye Daughters of the Revolution The Black Crowes Warpaint Rock None None 304147\n",
      "Walk Believer Walk The Black Crowes Warpaint Rock None None 280253\n",
      "Choice Hotels International Undercover Boss Undercover Boss, Season 2 Reality TV 1 None 2614047\n",
      "Microchip Jason Farnham YouTube Audio Library Dance & Electronic None None 114336\n",
      "Anant Agarwal IEEE Computer Society Computing Conversations Podcast None None 494000\n"
     ]
    }
   ],
   "source": [
    "import xml.etree.ElementTree as ET\n",
    "import sqlite3\n",
    "\n",
    "conn = sqlite3.connect('trackdb.sqlite')\n",
    "cur = conn.cursor()\n",
    "\n",
    "# Make some fresh tables using executescript()\n",
    "cur.executescript('''\n",
    "DROP TABLE IF EXISTS Artist;\n",
    "DROP TABLE IF EXISTS Album;\n",
    "DROP TABLE IF EXISTS Genre;\n",
    "DROP TABLE IF EXISTS Track;\n",
    "\n",
    "CREATE TABLE Artist (\n",
    "    id  INTEGER NOT NULL PRIMARY KEY AUTOINCREMENT UNIQUE,\n",
    "    name    TEXT UNIQUE\n",
    ");\n",
    "\n",
    "CREATE TABLE Album (\n",
    "    id  INTEGER NOT NULL PRIMARY KEY AUTOINCREMENT UNIQUE,\n",
    "    artist_id  INTEGER,\n",
    "    title   TEXT UNIQUE\n",
    ");\n",
    "\n",
    "CREATE TABLE Genre (\n",
    "    id  INTEGER NOT NULL PRIMARY KEY AUTOINCREMENT UNIQUE,\n",
    "    name   TEXT UNIQUE\n",
    ");\n",
    "\n",
    "CREATE TABLE Track (\n",
    "    id  INTEGER NOT NULL PRIMARY KEY \n",
    "        AUTOINCREMENT UNIQUE,\n",
    "    title TEXT  UNIQUE,\n",
    "    album_id  INTEGER,\n",
    "    genre_id  INTEGER,\n",
    "    len INTEGER, rating INTEGER, count INTEGER\n",
    ");\n",
    "''')\n",
    "\n",
    "\n",
    "fname = input('Enter file name: ')\n",
    "if ( len(fname) < 1 ) : fname = 'Library.xml'\n",
    "\n",
    "# <key>Track ID</key><integer>369</integer>\n",
    "# <key>Name</key><string>Another One Bites The Dust</string>\n",
    "# <key>Artist</key><string>Queen</string>\n",
    "def lookup(d, key):\n",
    "    found = False\n",
    "    for child in d:\n",
    "        if found : return child.text\n",
    "        if child.tag == 'key' and child.text == key :\n",
    "            found = True\n",
    "    return None\n",
    "\n",
    "stuff = ET.parse(fname)\n",
    "all = stuff.findall('dict/dict/dict')\n",
    "print('Dict count:', len(all))\n",
    "for entry in all:\n",
    "    if ( lookup(entry, 'Track ID') is None ) : continue\n",
    "\n",
    "    name = lookup(entry, 'Name')\n",
    "    artist = lookup(entry, 'Artist')\n",
    "    album = lookup(entry, 'Album')\n",
    "    genre = lookup(entry, 'Genre')\n",
    "    count = lookup(entry, 'Play Count')\n",
    "    rating = lookup(entry, 'Rating')\n",
    "    length = lookup(entry, 'Total Time')\n",
    "\n",
    "    if name is None or artist is None or genre is None or album is None: \n",
    "        continue\n",
    "\n",
    "    print (name, artist, album, genre, count, rating, length)\n",
    "\n",
    "    cur.execute('''INSERT OR IGNORE INTO Artist (name) \n",
    "        VALUES ( ? )''', ( artist, ) )\n",
    "    cur.execute('SELECT id FROM Artist WHERE name = ? ', (artist, ))\n",
    "    artist_id = cur.fetchone()[0]\n",
    "\n",
    "    cur.execute('''INSERT OR IGNORE INTO Album (title, artist_id) \n",
    "        VALUES ( ?, ? )''', ( album, artist_id ) )\n",
    "    cur.execute('SELECT id FROM Album WHERE title = ? ', (album, ))\n",
    "    album_id = cur.fetchone()[0]\n",
    "\n",
    "    cur.execute('''INSERT OR IGNORE INTO Genre (name) \n",
    "    VALUES ( ? )''', ( genre, ) )\n",
    "    cur.execute('SELECT id FROM Genre WHERE name = ? ', (genre, ))\n",
    "    genre_id = cur.fetchone()[0]\n",
    "\n",
    "    cur.execute('''INSERT OR REPLACE INTO Track\n",
    "        (title, album_id, genre_id, len, rating, count) \n",
    "        VALUES ( ?, ?, ?, ?, ?, ? )''', \n",
    "        ( name, album_id, genre_id, length, rating, count ) )\n",
    "\n",
    "    conn.commit()"
   ]
  },
  {
   "cell_type": "code",
   "execution_count": 27,
   "metadata": {},
   "outputs": [
    {
     "name": "stdout",
     "output_type": "stream",
     "text": [
      "RESULT: ('416261616E736933313030',)\n"
     ]
    }
   ],
   "source": [
    "\"\"\" ALEX GASCON\n",
    "INSTRUCTIONS\n",
    "This application will read roster data in JSON format, parse the file, and \n",
    "then produce an SQLite database that contains a User, Course, and Member \n",
    "table and populate the tables from the data file.\n",
    "You can base your solution on this code: \n",
    "http://www.pythonlearn.com/code/roster.py - this code is incomplete as you\n",
    "need to modify the program to store the role column in the Member table to\n",
    "complete the assignment.\n",
    "Each student gets their own file for the assignment. Download this file \n",
    "(https://pr4e.dr-chuck.com/tsugi/mod/sql-intro/roster_data.php?PHPSESSID=ac66d3b8dbd59e2dcfee8c24b15c25b9)\n",
    "and save it as roster_data.json. Move the downloaded file into the same \n",
    "folder as your roster.py program.\n",
    "Once you have made the necessary changes to the program and it has been run \n",
    "successfully reading the above JSON data, run the following SQL command:\n",
    "SELECT hex(User.name || Course.title || Member.role ) AS X FROM \n",
    "    User JOIN Member JOIN Course \n",
    "    ON User.id = Member.user_id AND Member.course_id = Course.id\n",
    "    ORDER BY X\n",
    "Find the first row in the resulting record set and enter the long string that\n",
    "looks like 53656C696E613333. \n",
    "\"\"\"\n",
    "\n",
    "import json\n",
    "import sqlite3\n",
    "\n",
    "#PART 1: Creating the database\n",
    "dbname = \"roster.sqlite\"\n",
    "conn = sqlite3.connect(dbname)\n",
    "cur = conn.cursor()\n",
    "\n",
    "cur.executescript('''\n",
    "\tDROP TABLE IF EXISTS User;\n",
    "\tDROP TABLE IF EXISTS Course;\n",
    "\tDROP TABLE IF EXISTS Member;\n",
    "\tCREATE TABLE User (\n",
    "\t\tid INTEGER NOT NULL PRIMARY KEY AUTOINCREMENT UNIQUE,\n",
    "\t\tname TEXT UNIQUE \n",
    "\t);\n",
    "\tCREATE TABLE Course (\n",
    "\t\tid INTEGER NOT NULL PRIMARY KEY AUTOINCREMENT UNIQUE,\n",
    "\t\ttitle TEXT UNIQUE\n",
    "\t);\n",
    "\tCREATE TABLE Member (\n",
    "\t\tuser_id INTEGER,\n",
    "\t\tcourse_id INTEGER,\n",
    "\t\trole INTEGER,\n",
    "\t\tPRIMARY KEY(user_id, course_id)\n",
    "\t)\n",
    "''')\n",
    "#Note: if we don't add UNIQUE after \"User.name\" and \"Course.title\", \n",
    "#the IGNORE statement won't work and therefore we'll have duplicates\n",
    "\n",
    "\n",
    "#PART 2: DESERIALIZING THE data\n",
    "#The JSON data we're going to process is stored in an array form, with each\n",
    "#item being also an array of three elements: one corresponding to the username \n",
    "#one corresponding to the course name, and one indicating if the user is instructor\n",
    "#None of them has any field title. \n",
    "\n",
    "filename = \"roster_data.json\"\n",
    "jsondata = open(filename)\n",
    "data = json.load(jsondata)\n",
    "\n",
    "#PART 3: INSERTING DATA\n",
    "for entry in data:\n",
    "\tuser = entry[0]\n",
    "\tcourse = entry[1]\n",
    "\tinstructor = entry[2]\n",
    "\n",
    "\t#Inserting user\n",
    "\tuser_statement = \"\"\"INSERT OR IGNORE INTO User(name) VALUES( ? )\"\"\"\n",
    "\tSQLparams = (user, )\n",
    "\tcur.execute(user_statement, SQLparams)\n",
    "\n",
    "\t#Inserting course\n",
    "\tcourse_statement = \"\"\"INSERT OR IGNORE INTO Course(title) VALUES( ? )\"\"\"\n",
    "\tSQLparams = (course, )\n",
    "\tcur.execute(course_statement, SQLparams)\n",
    "\n",
    "\t#Getting user and course id\n",
    "\tcourseID_statement = \"\"\"SELECT id FROM Course WHERE title = ?\"\"\"\n",
    "\tSQLparams = (course, )\n",
    "\tcur.execute(courseID_statement, SQLparams)\n",
    "\tcourseID = cur.fetchone()[0]\n",
    "\n",
    "\tuserID_statement = \"\"\"SELECT id FROM User WHERE name = ?\"\"\"\n",
    "\tSQLparams = (user, )\n",
    "\tcur.execute(userID_statement, SQLparams)\n",
    "\tuserID = cur.fetchone()[0]\n",
    "\n",
    "\t#Inserting the entry\n",
    "\tmember_statement = \"\"\"INSERT INTO Member(user_id, course_id, role)\n",
    "\t\tVALUES(?, ?, ?)\"\"\"\n",
    "\tSQLparams = (userID, courseID, instructor)\n",
    "\tcur.execute(member_statement, SQLparams)\n",
    "\n",
    "#Saving the changes\n",
    "conn.commit()\n",
    "\n",
    "#PART 4: Testing and obtaining the results\n",
    "test_statement = \"\"\"\n",
    "SELECT hex(User.name || Course.title || Member.role ) AS X FROM \n",
    "    User JOIN Member JOIN Course \n",
    "    ON User.id = Member.user_id AND Member.course_id = Course.id\n",
    "    ORDER BY X\n",
    "\"\"\"\n",
    "cur.execute(test_statement)\n",
    "result = cur.fetchone()\n",
    "print(\"RESULT: \" + str(result))\n",
    "\n",
    "#Closing the connection\n",
    "cur.close()\n",
    "conn.close()"
   ]
  },
  {
   "cell_type": "code",
   "execution_count": 1,
   "metadata": {},
   "outputs": [
    {
     "name": "stdout",
     "output_type": "stream",
     "text": [
      "Code added\n"
     ]
    }
   ],
   "source": [
    "print('Code added')\n"
   ]
  },
  {
   "cell_type": "code",
   "execution_count": null,
   "metadata": {},
   "outputs": [],
   "source": []
  }
 ],
 "metadata": {
  "kernelspec": {
   "display_name": "Python 3",
   "language": "python",
   "name": "python3"
  },
  "language_info": {
   "codemirror_mode": {
    "name": "ipython",
    "version": 3
   },
   "file_extension": ".py",
   "mimetype": "text/x-python",
   "name": "python",
   "nbconvert_exporter": "python",
   "pygments_lexer": "ipython3",
   "version": "3.8.3"
  }
 },
 "nbformat": 4,
 "nbformat_minor": 4
}
